{
 "cells": [
  {
   "cell_type": "markdown",
   "id": "ed020234-318f-4517-ac48-ee7a9b79c804",
   "metadata": {},
   "source": [
    "Import Libraries"
   ]
  },
  {
   "cell_type": "code",
   "execution_count": 44,
   "id": "11eb8e90-7e9c-488c-81b3-c7394df628fe",
   "metadata": {},
   "outputs": [],
   "source": [
    "import pandas as pd\n",
    "import numpy as np\n",
    "from scipy.stats import skew\n",
    "import matplotlib.pyplot as plt\n"
   ]
  },
  {
   "cell_type": "markdown",
   "id": "207e53ba-bc0c-4dfd-92a7-c1b8befb69b8",
   "metadata": {},
   "source": [
    "Import Data"
   ]
  },
  {
   "cell_type": "code",
   "execution_count": 56,
   "id": "de409caf-7075-4faa-8809-2e1f352c2a3e",
   "metadata": {},
   "outputs": [
    {
     "data": {
      "text/html": [
       "<div>\n",
       "<style scoped>\n",
       "    .dataframe tbody tr th:only-of-type {\n",
       "        vertical-align: middle;\n",
       "    }\n",
       "\n",
       "    .dataframe tbody tr th {\n",
       "        vertical-align: top;\n",
       "    }\n",
       "\n",
       "    .dataframe thead th {\n",
       "        text-align: right;\n",
       "    }\n",
       "</style>\n",
       "<table border=\"1\" class=\"dataframe\">\n",
       "  <thead>\n",
       "    <tr style=\"text-align: right;\">\n",
       "      <th></th>\n",
       "      <th>Timestamp</th>\n",
       "      <th>TransactionID</th>\n",
       "      <th>AccountID</th>\n",
       "      <th>Amount</th>\n",
       "      <th>Merchant</th>\n",
       "      <th>TransactionType</th>\n",
       "      <th>Location</th>\n",
       "    </tr>\n",
       "  </thead>\n",
       "  <tbody>\n",
       "    <tr>\n",
       "      <th>0</th>\n",
       "      <td>01-01-2023 08:00</td>\n",
       "      <td>TXN1127</td>\n",
       "      <td>ACC4</td>\n",
       "      <td>95071.92</td>\n",
       "      <td>MerchantH</td>\n",
       "      <td>Purchase</td>\n",
       "      <td>Tokyo</td>\n",
       "    </tr>\n",
       "    <tr>\n",
       "      <th>1</th>\n",
       "      <td>01-01-2023 08:01</td>\n",
       "      <td>TXN1639</td>\n",
       "      <td>ACC10</td>\n",
       "      <td>15607.89</td>\n",
       "      <td>MerchantH</td>\n",
       "      <td>Purchase</td>\n",
       "      <td>London</td>\n",
       "    </tr>\n",
       "    <tr>\n",
       "      <th>2</th>\n",
       "      <td>01-01-2023 08:02</td>\n",
       "      <td>TXN872</td>\n",
       "      <td>ACC8</td>\n",
       "      <td>65092.34</td>\n",
       "      <td>MerchantE</td>\n",
       "      <td>Withdrawal</td>\n",
       "      <td>London</td>\n",
       "    </tr>\n",
       "    <tr>\n",
       "      <th>3</th>\n",
       "      <td>01-01-2023 08:03</td>\n",
       "      <td>TXN1438</td>\n",
       "      <td>ACC6</td>\n",
       "      <td>87.87</td>\n",
       "      <td>MerchantE</td>\n",
       "      <td>Purchase</td>\n",
       "      <td>London</td>\n",
       "    </tr>\n",
       "    <tr>\n",
       "      <th>4</th>\n",
       "      <td>01-01-2023 08:04</td>\n",
       "      <td>TXN1338</td>\n",
       "      <td>ACC6</td>\n",
       "      <td>716.56</td>\n",
       "      <td>MerchantI</td>\n",
       "      <td>Purchase</td>\n",
       "      <td>Los Angeles</td>\n",
       "    </tr>\n",
       "  </tbody>\n",
       "</table>\n",
       "</div>"
      ],
      "text/plain": [
       "          Timestamp TransactionID AccountID    Amount   Merchant  \\\n",
       "0  01-01-2023 08:00       TXN1127      ACC4  95071.92  MerchantH   \n",
       "1  01-01-2023 08:01       TXN1639     ACC10  15607.89  MerchantH   \n",
       "2  01-01-2023 08:02        TXN872      ACC8  65092.34  MerchantE   \n",
       "3  01-01-2023 08:03       TXN1438      ACC6     87.87  MerchantE   \n",
       "4  01-01-2023 08:04       TXN1338      ACC6    716.56  MerchantI   \n",
       "\n",
       "  TransactionType     Location  \n",
       "0        Purchase        Tokyo  \n",
       "1        Purchase       London  \n",
       "2      Withdrawal       London  \n",
       "3        Purchase       London  \n",
       "4        Purchase  Los Angeles  "
      ]
     },
     "execution_count": 56,
     "metadata": {},
     "output_type": "execute_result"
    }
   ],
   "source": [
    "dataframe = pd.read_csv(r'financial_anomaly_data.csv')\n",
    "dataframe.head()"
   ]
  },
  {
   "cell_type": "markdown",
   "id": "98c5cb8b-3e75-4171-9db7-ef23031a0819",
   "metadata": {},
   "source": [
    "Identify and Remove Nulls"
   ]
  },
  {
   "cell_type": "code",
   "execution_count": 57,
   "id": "6a517ee6-f2aa-4c07-bb1e-bd391954ef4b",
   "metadata": {},
   "outputs": [
    {
     "name": "stdout",
     "output_type": "stream",
     "text": [
      "Number of rows with null values: 481\n",
      "Number of total rows: 216960\n",
      "Percent of total rows that are null: 0.22 %\n"
     ]
    },
    {
     "data": {
      "text/plain": [
       "0"
      ]
     },
     "execution_count": 57,
     "metadata": {},
     "output_type": "execute_result"
    }
   ],
   "source": [
    "# .22% of the rows are null. These values will be removed so analysis can be done. \n",
    "null_rows = dataframe['Amount'].isnull().sum()\n",
    "total_rows = dataframe['Amount'].count()\n",
    "\n",
    "\n",
    "print('Number of rows with null values:',null_rows)\n",
    "print('Number of total rows:',total_rows)\n",
    "print('Percent of total rows that are null:',round(null_rows/total_rows * 100,2),'%')\n",
    "\n",
    "dataframe = dataframe.dropna(subset=['Amount'])\n",
    "dataframe['Amount'].isnull().sum()\n"
   ]
  },
  {
   "cell_type": "raw",
   "id": "763aba30-0a4f-43e6-a77c-37ff2a2676f0",
   "metadata": {},
   "source": [
    "Identify Skewness of the data"
   ]
  },
  {
   "cell_type": "code",
   "execution_count": 58,
   "id": "f22e0e79-1868-4a78-acc9-337a2d847869",
   "metadata": {},
   "outputs": [
    {
     "name": "stdout",
     "output_type": "stream",
     "text": [
      "0.40402518724097153\n"
     ]
    }
   ],
   "source": [
    "# There is a slight right skew, which aligns with the summary data.\n",
    "print(skew(dataframe['Amount']))  # Close to 0 → symmetric\n"
   ]
  },
  {
   "cell_type": "markdown",
   "id": "3ff029a5-2e12-4bee-9263-bde3e5a04f52",
   "metadata": {},
   "source": [
    "Obtain summary of the Amount Column"
   ]
  },
  {
   "cell_type": "code",
   "execution_count": 59,
   "id": "e1d7df59-b9a2-41d0-8701-fcbe3a365135",
   "metadata": {},
   "outputs": [
    {
     "name": "stdout",
     "output_type": "stream",
     "text": [
      "count    216960.000000\n",
      "mean      50090.025108\n",
      "std       29097.905016\n",
      "min          10.510000\n",
      "25%       25061.242500\n",
      "50%       50183.980000\n",
      "75%       75080.460000\n",
      "max      978942.260000\n",
      "Name: Amount, dtype: float64\n"
     ]
    }
   ],
   "source": [
    "print(dataframe['Amount'].describe())\n"
   ]
  },
  {
   "cell_type": "raw",
   "id": "ebfa64bd-29f3-43df-b8fb-fd4ebfeec781",
   "metadata": {},
   "source": [
    "Obtain Outliers to Identify Suspicious Transactions"
   ]
  },
  {
   "cell_type": "code",
   "execution_count": 61,
   "id": "74c7ec38-cd10-456e-a07f-c3142261dd2b",
   "metadata": {},
   "outputs": [
    {
     "name": "stdout",
     "output_type": "stream",
     "text": [
      "               Timestamp TransactionID AccountID     Amount   Merchant  \\\n",
      "45099   01-02-2023 15:39       TXN1359     ACC11  151020.55  MerchantB   \n",
      "4148    04-01-2023 05:08        TXN625      ACC1  187344.37  MerchantD   \n",
      "211866  28-05-2023 11:06        TXN543      ACC2  191561.95  MerchantJ   \n",
      "211753  28-05-2023 09:13        TXN141      ACC4  223542.64  MerchantG   \n",
      "4194    04-01-2023 05:54        TXN667      ACC3  272990.11  MerchantE   \n",
      "3453    03-01-2023 17:33       TXN1690      ACC8  489492.30  MerchantF   \n",
      "211959  28-05-2023 12:39       TXN1359      ACC8  616155.70  MerchantC   \n",
      "213460  29-05-2023 13:40       TXN1249      ACC5  689504.90  MerchantI   \n",
      "3448    03-01-2023 17:28        TXN827     ACC12  712076.97  MerchantA   \n",
      "45100   01-02-2023 15:40        TXN190      ACC5  873004.79  MerchantI   \n",
      "2775    03-01-2023 06:15       TXN1049     ACC14  978942.26  MerchantJ   \n",
      "\n",
      "       TransactionType       Location  z_score  \n",
      "45099         Transfer          Tokyo     3.47  \n",
      "4148          Purchase  San Francisco     4.72  \n",
      "211866        Purchase  San Francisco     4.86  \n",
      "211753      Withdrawal  San Francisco     5.96  \n",
      "4194          Transfer    Los Angeles     7.66  \n",
      "3453          Purchase          Tokyo    15.10  \n",
      "211959        Purchase       New York    19.45  \n",
      "213460        Purchase  San Francisco    21.97  \n",
      "3448        Withdrawal          Tokyo    22.75  \n",
      "45100       Withdrawal    Los Angeles    28.28  \n",
      "2775          Transfer       New York    31.92  \n"
     ]
    }
   ],
   "source": [
    "# Calculate Z-scores for the 'Amount' column\n",
    "dataframe['z_score'] = stats.zscore(dataframe['Amount'])\n",
    "\n",
    "# Set Z-score threshold for outliers (commonly 3 or -3)\n",
    "threshold = 3\n",
    "\n",
    "# Filter outliers\n",
    "outliers = dataframe[dataframe['z_score'].abs() > threshold]\n",
    "outliers = outliers.sort_values(by='Amount')\n",
    "\n",
    "print(outliers.round(2))"
   ]
  },
  {
   "cell_type": "markdown",
   "id": "af8949e3-4aca-4e60-91db-b6147f1bfcf2",
   "metadata": {},
   "source": [
    "Refer to the file named \"Report\" to view a detailed analysis of this notebook. "
   ]
  }
 ],
 "metadata": {
  "kernelspec": {
   "display_name": "anaconda-2024.02-py310",
   "language": "python",
   "name": "conda-env-anaconda-2024.02-py310-py"
  },
  "language_info": {
   "codemirror_mode": {
    "name": "ipython",
    "version": 3
   },
   "file_extension": ".py",
   "mimetype": "text/x-python",
   "name": "python",
   "nbconvert_exporter": "python",
   "pygments_lexer": "ipython3",
   "version": "3.10.14"
  }
 },
 "nbformat": 4,
 "nbformat_minor": 5
}
